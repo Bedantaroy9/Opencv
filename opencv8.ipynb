{
 "cells": [
  {
   "cell_type": "code",
   "execution_count": 2,
   "id": "e58ffb44-85a4-435f-8f17-eb747eca3311",
   "metadata": {},
   "outputs": [],
   "source": [
    "import cv2"
   ]
  },
  {
   "cell_type": "markdown",
   "id": "a8970333-5877-4316-8bcf-d85c58d79acd",
   "metadata": {},
   "source": [
    "# detecting faces in a static image"
   ]
  },
  {
   "cell_type": "code",
   "execution_count": 8,
   "id": "fe31e051-301c-4598-8526-c294271cf831",
   "metadata": {},
   "outputs": [
    {
     "data": {
      "text/plain": [
       "-1"
      ]
     },
     "execution_count": 8,
     "metadata": {},
     "output_type": "execute_result"
    }
   ],
   "source": [
    "img = cv2.imread(\"img1.jpg\")\n",
    "gr = cv2.cvtColor(img, cv2.COLOR_BGR2GRAY)\n",
    "### Load Haar cascade classifier for face detection\n",
    "f = cv2.CascadeClassifier(\"/opt/anaconda3/lib/python3.12/site-packages/cv2/data/haarcascade_frontalface_default.xml\")\n",
    "# Detect faces: scaleFactor=1.2 (image shrinking rate), minNeighbors=4 (confidence threshold)\n",
    "d = f.detectMultiScale(gr,1.2,4)\n",
    "\n",
    "for (x,y,w,h) in d:\n",
    "    cv2.rectangle(img, (x,y), (x+w, y+h), (0,0,255),3)\n",
    "    \n",
    "\n",
    "cv2.imshow(\"window\",img)\n",
    "cv2.waitKey(0)\n",
    "cv2.destroyAllWindows()\n",
    "cv2.waitKey(1)\n",
    "                        "
   ]
  },
  {
   "cell_type": "markdown",
   "id": "d69befd7-ff61-469c-b0f7-a002b72c7fbe",
   "metadata": {},
   "source": [
    "## displaying coordinate ans color code of the point clicked"
   ]
  },
  {
   "cell_type": "code",
   "execution_count": 15,
   "id": "71afc07c-c61a-43d8-9603-f3d4ddeb483b",
   "metadata": {},
   "outputs": [
    {
     "data": {
      "text/plain": [
       "-1"
      ]
     },
     "execution_count": 15,
     "metadata": {},
     "output_type": "execute_result"
    }
   ],
   "source": [
    "def click(event, x, y, f, p):\n",
    "    if event == cv2.EVENT_LBUTTONDOWN:\n",
    "        s = f\"{x},{y}\"\n",
    "        cv2.putText(img,s,(x,y),cv2.FONT_HERSHEY_PLAIN,2,(0,0,0))\n",
    "        cv2.imshow(\"window\",img)\n",
    "    elif event == cv2.EVENT_RBUTTONDOWN:\n",
    "        b = img[y,x,0]\n",
    "        g = img[y,x,1]\n",
    "        r = img[y,x,2]\n",
    "        s = f\"{b},{g},{r}\"\n",
    "        cv2.putText(img,s,(x,y),cv2.FONT_HERSHEY_PLAIN,2,(0,0,0))\n",
    "        cv2.imshow(\"window\",img)\n",
    "\n",
    "\n",
    "img = cv2.imread(\"img1.jpg\")\n",
    "\n",
    "\n",
    "cv2.imshow(\"window\",img)\n",
    "cv2.setMouseCallback(\"window\",click)\n",
    "\n",
    "cv2.waitKey(0)\n",
    "cv2.destroyAllWindows()\n",
    "cv2.waitKey(1)"
   ]
  },
  {
   "cell_type": "code",
   "execution_count": null,
   "id": "360fd95b-16ca-41c2-aeb0-cd749e48de5b",
   "metadata": {},
   "outputs": [],
   "source": []
  }
 ],
 "metadata": {
  "kernelspec": {
   "display_name": "Python [conda env:base] *",
   "language": "python",
   "name": "conda-base-py"
  },
  "language_info": {
   "codemirror_mode": {
    "name": "ipython",
    "version": 3
   },
   "file_extension": ".py",
   "mimetype": "text/x-python",
   "name": "python",
   "nbconvert_exporter": "python",
   "pygments_lexer": "ipython3",
   "version": "3.12.7"
  }
 },
 "nbformat": 4,
 "nbformat_minor": 5
}
