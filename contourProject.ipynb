{
 "cells": [
  {
   "cell_type": "code",
   "execution_count": 2,
   "id": "9e276ac2-2d71-48ef-b3f1-1884091c833e",
   "metadata": {},
   "outputs": [],
   "source": [
    "import cv2\n",
    "import numpy as np"
   ]
  },
  {
   "cell_type": "code",
   "execution_count": 20,
   "id": "596f08f8-33dc-4ea1-af58-e13eefaf549a",
   "metadata": {},
   "outputs": [
    {
     "data": {
      "text/plain": [
       "-1"
      ]
     },
     "execution_count": 20,
     "metadata": {},
     "output_type": "execute_result"
    }
   ],
   "source": [
    "def nothing(x):\n",
    "    pass\n",
    "\n",
    "cv2.namedWindow(\"window\")\n",
    "\n",
    "cv2.createTrackbar(\"th\",\"window\",0,255,nothing)\n",
    "\n",
    "cv2.createTrackbar(\"lb\",\"window\",0,255,nothing)\n",
    "cv2.createTrackbar(\"lg\",\"window\",0,255,nothing)\n",
    "cv2.createTrackbar(\"lr\",\"window\",0,255,nothing)\n",
    "\n",
    "cv2.createTrackbar(\"hb\",\"window\",0,255,nothing)\n",
    "cv2.createTrackbar(\"hg\",\"window\",0,255,nothing)\n",
    "cv2.createTrackbar(\"hr\",\"window\",0,255,nothing)\n",
    "\n",
    "cap = cv2.VideoCapture(0)\n",
    "while True:\n",
    "    r,frame = cap.read()\n",
    "    if r == True:\n",
    "\n",
    "        thr = cv2.getTrackbarPos(\"th\",\"window\")\n",
    "\n",
    "        LB = cv2.getTrackbarPos(\"lb\",\"window\")\n",
    "        LG = cv2.getTrackbarPos(\"lg\",\"window\")\n",
    "        LR = cv2.getTrackbarPos(\"lr\",\"window\")\n",
    "\n",
    "        HB = cv2.getTrackbarPos(\"hb\",\"window\")\n",
    "        HG = cv2.getTrackbarPos(\"hg\",\"window\")\n",
    "        HR = cv2.getTrackbarPos(\"hr\",\"window\")\n",
    "\n",
    "        lower = np.array([LB,LG,LR])\n",
    "        upper = np.array([HB,HG,HR])\n",
    "     \n",
    "        frame = cv2.flip(frame,1)\n",
    "        frame = cv2.resize(frame, (400,400))\n",
    "        hsv = cv2.cvtColor(frame,cv2.COLOR_BGR2HSV)\n",
    "        \n",
    "        m = cv2.inRange(hsv,lower,upper)               ## inRange() → creates a \"where-is-the-color\" map. \n",
    "        res = cv2.bitwise_and(frame,frame,mask=m)       ## bitwise_and() → applies that map to extract the colored region from the original image\n",
    "\n",
    "        r,th = cv2.threshold(m,thr,255,cv2.THRESH_BINARY)\n",
    "        cnt,h = cv2.findContours(th,cv2.RETR_TREE,cv2.CHAIN_APPROX_SIMPLE)\n",
    "        cv2.drawContours(frame, cnt, -1, (0,0,255), 4)\n",
    "        \n",
    "        cv2.imshow(\"thr\",th)\n",
    "        cv2.imshow(\"res\",res)\n",
    "        cv2.imshow(\"mask\",m)\n",
    "        cv2.imshow(\"ws\",frame)\n",
    "        if cv2.waitKey(25) & 0xff == ord(\"p\"):\n",
    "            break     \n",
    "    else:\n",
    "        break\n",
    "\n",
    "\n",
    "\n",
    "cap.release()\n",
    "cv2.destroyAllWindows()\n",
    "cv2.waitKey(1)\n"
   ]
  },
  {
   "cell_type": "code",
   "execution_count": null,
   "id": "f8b96b3f-2a0b-4d88-a3dc-59690717055c",
   "metadata": {},
   "outputs": [],
   "source": []
  }
 ],
 "metadata": {
  "kernelspec": {
   "display_name": "Python [conda env:base] *",
   "language": "python",
   "name": "conda-base-py"
  },
  "language_info": {
   "codemirror_mode": {
    "name": "ipython",
    "version": 3
   },
   "file_extension": ".py",
   "mimetype": "text/x-python",
   "name": "python",
   "nbconvert_exporter": "python",
   "pygments_lexer": "ipython3",
   "version": "3.12.7"
  }
 },
 "nbformat": 4,
 "nbformat_minor": 5
}
