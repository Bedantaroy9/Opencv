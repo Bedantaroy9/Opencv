{
 "cells": [
  {
   "cell_type": "code",
   "execution_count": 1,
   "id": "7972ba9e-3dc6-4f91-bf8b-02b96252306b",
   "metadata": {},
   "outputs": [],
   "source": [
    "import cv2"
   ]
  },
  {
   "cell_type": "markdown",
   "id": "3fcc9953-15bb-4531-b521-cbb7bd4015e3",
   "metadata": {},
   "source": [
    "## detecting the smile"
   ]
  },
  {
   "cell_type": "code",
   "execution_count": 22,
   "id": "939d3d4d-2ee1-4fa2-bae2-17da84a6cd25",
   "metadata": {},
   "outputs": [
    {
     "data": {
      "text/plain": [
       "-1"
      ]
     },
     "execution_count": 22,
     "metadata": {},
     "output_type": "execute_result"
    }
   ],
   "source": [
    "img = cv2.imread(\"img1.jpg\")\n",
    "\n",
    "gry = cv2.cvtColor(img,cv2.COLOR_BGR2GRAY)\n",
    "\n",
    "sm = cv2.CascadeClassifier(\"/opt/anaconda3/lib/python3.12/site-packages/cv2/data/haarcascade_smile.xml\")\n",
    "fc = cv2.CascadeClassifier(\"/opt/anaconda3/lib/python3.12/site-packages/cv2/data/haarcascade_frontalface_default.xml\")\n",
    "\n",
    "f = fc.detectMultiScale(gry,1.3,3)  ## it gives us the coordinate of the face\n",
    "\n",
    "for x,y,w,h in f:\n",
    "    roi_gry = gry[y:y+h, x:x+w]\n",
    "    roi_img = img[y:y+h, x:x+w]\n",
    "    \n",
    "    s = sm.detectMultiScale(roi_img,1.2,3)\n",
    "    for xs, ys, ws, hs in s:\n",
    "        cv2.rectangle(roi_img, (xs,ys),(xs+ws, ys+hs), (0,255,0),3) \n",
    "\n",
    "cv2.imshow(\"ws\",img)\n",
    "cv2.imshow(\"ws1\",roi_img)\n",
    "cv2.waitKey(0)\n",
    "cv2.destroyAllWindows()\n",
    "cv2.waitKey(1)\n",
    "\n"
   ]
  },
  {
   "cell_type": "markdown",
   "id": "7ddfad22-c085-4aad-96aa-4a1d246573a2",
   "metadata": {},
   "source": [
    "## Detecting the full body"
   ]
  },
  {
   "cell_type": "code",
   "execution_count": 37,
   "id": "232478d4-67dd-4845-9cd7-c875336f0f69",
   "metadata": {},
   "outputs": [
    {
     "data": {
      "text/plain": [
       "-1"
      ]
     },
     "execution_count": 37,
     "metadata": {},
     "output_type": "execute_result"
    }
   ],
   "source": [
    "cap = cv2.VideoCapture(0)\n",
    "\n",
    "while True:\n",
    "    r,f = cap.read()\n",
    "    if r==True:\n",
    "        gry = cv2.cvtColor(f,cv2.COLOR_BGR2GRAY)\n",
    "        \n",
    "        hm = cv2.CascadeClassifier(\"/opt/anaconda3/lib/python3.12/site-packages/cv2/data/haarcascade_fullbody.xml\")\n",
    "        h = hm.detectMultiScale(gry,1.1,5)\n",
    "\n",
    "        for (x,y,w,h) in h:\n",
    "            cv2.rectangle(f,(x,y),(x+w, y+h), (0,0,255),3)   \n",
    "            \n",
    "        cv2.imshow(\"ws\",f)\n",
    "        if cv2.waitKey(25) & 0xff == ord(\"p\"):\n",
    "            break\n",
    "    else:\n",
    "        break\n",
    "    \n",
    "\n",
    "cap.release()\n",
    "cv2.destroyAllWindows()\n",
    "cv2.waitKey(1)"
   ]
  },
  {
   "cell_type": "code",
   "execution_count": null,
   "id": "d14ce441-3c83-45e7-a7a8-0a5825af302c",
   "metadata": {},
   "outputs": [],
   "source": []
  }
 ],
 "metadata": {
  "kernelspec": {
   "display_name": "Python [conda env:base] *",
   "language": "python",
   "name": "conda-base-py"
  },
  "language_info": {
   "codemirror_mode": {
    "name": "ipython",
    "version": 3
   },
   "file_extension": ".py",
   "mimetype": "text/x-python",
   "name": "python",
   "nbconvert_exporter": "python",
   "pygments_lexer": "ipython3",
   "version": "3.12.7"
  }
 },
 "nbformat": 4,
 "nbformat_minor": 5
}
