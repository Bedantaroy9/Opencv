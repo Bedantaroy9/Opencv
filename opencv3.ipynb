{
 "cells": [
  {
   "cell_type": "code",
   "execution_count": 2,
   "id": "474c97d9-bf6c-4d8c-8151-8fe74d651296",
   "metadata": {},
   "outputs": [],
   "source": [
    "import cv2\n",
    "import numpy as np"
   ]
  },
  {
   "cell_type": "markdown",
   "id": "48af85ce-d7d0-4df5-bf7e-eeb58de9034b",
   "metadata": {},
   "source": [
    "## Bluring"
   ]
  },
  {
   "cell_type": "code",
   "execution_count": 4,
   "id": "380ba15a-f45d-449f-8474-10e54eea4c8d",
   "metadata": {},
   "outputs": [
    {
     "data": {
      "text/plain": [
       "-1"
      ]
     },
     "execution_count": 4,
     "metadata": {},
     "output_type": "execute_result"
    }
   ],
   "source": [
    "org_img = cv2.imread(\"img1.jpg\")\n",
    "re_img = cv2.resize(org_img, (500,600))\n",
    "g = cv2.GaussianBlur(re_img, (7,7), 0)\n",
    "m = cv2.medianBlur(re_img,5)\n",
    "b = cv2.bilateralFilter(re_img,10, 100, 100)\n",
    "h = np.hstack((re_img,g,m,b))\n",
    "cv2.imshow(\"window\", h)\n",
    "\n",
    "# Wait until any key is pressed\n",
    "k = cv2.waitKey(0)\n",
    "\n",
    "# Make sure window gets focus (macOS sometimes needs this)\n",
    "cv2.destroyAllWindows()\n",
    "cv2.waitKey(1)  # Ensure the destroy command completes\n",
    "\n"
   ]
  },
  {
   "cell_type": "markdown",
   "id": "98d714d1-c06b-48da-a79f-e81b2a87b3c7",
   "metadata": {},
   "source": [
    "## Applying border to the images"
   ]
  },
  {
   "cell_type": "code",
   "execution_count": 15,
   "id": "fa68ccc5-75e5-4f4a-b1ec-675c0958a36b",
   "metadata": {},
   "outputs": [
    {
     "data": {
      "text/plain": [
       "-1"
      ]
     },
     "execution_count": 15,
     "metadata": {},
     "output_type": "execute_result"
    }
   ],
   "source": [
    "org_img = cv2.imread(\"img1.jpg\")\n",
    "re_img = cv2.resize(org_img, (500,600))\n",
    "bor_img = cv2.copyMakeBorder(re_img,20,20,20,20,cv2.BORDER_CONSTANT,None,value=2)  ## border_replecate, reflect, default\n",
    "bor_img = cv2.resize(bor_img, (500,600))\n",
    "h = np.hstack((re_img,bor_img))\n",
    "cv2.imshow(\"window\", h)\n",
    "\n",
    "# Wait until any key is pressed\n",
    "k = cv2.waitKey(0)\n",
    "\n",
    "# Make sure window gets focus (macOS sometimes needs this)\n",
    "cv2.destroyAllWindows()\n",
    "cv2.waitKey(1)  # Ensure the destroy command completes\n",
    "\n"
   ]
  },
  {
   "cell_type": "markdown",
   "id": "8addfcef-e526-4871-995d-996f86e59ab5",
   "metadata": {},
   "source": [
    "## video player"
   ]
  },
  {
   "cell_type": "code",
   "execution_count": null,
   "id": "9fd4a9b6-d24b-4d83-8728-f73d7cf428b6",
   "metadata": {},
   "outputs": [],
   "source": [
    "cap = cv2.VideoCapture(\"video\")\n",
    "while cap.isOpened():\n",
    "    r,frame = cap.read()   ## it gives the boolean value, frame of the video in images\n",
    "    if r == True:\n",
    "        frame = cv2.resize(frame, (500, 600))\n",
    "        cv2.imshow(\"window\", frame)\n",
    "        if cv2.waitKey(25) && 0xff == ord(\"p\"):\n",
    "            break\n",
    "    else:\n",
    "        break\n",
    "\n",
    "cap.release()\n",
    "cv2.destroyAllWindows()"
   ]
  },
  {
   "cell_type": "code",
   "execution_count": 23,
   "id": "ba761b87-4568-4e43-987a-faa548b9f91b",
   "metadata": {},
   "outputs": [
    {
     "data": {
      "text/plain": [
       "-1"
      ]
     },
     "execution_count": 23,
     "metadata": {},
     "output_type": "execute_result"
    }
   ],
   "source": [
    "cap = cv2.VideoCapture(0)\n",
    "while True: \n",
    "    r,frame = cap.read()   ## it gives the boolean value, frame of the video in images\n",
    "    if r == True:\n",
    "        frame = cv2.resize(frame, (500, 600))\n",
    "        cv2.imshow(\"window\", frame)\n",
    "        if cv2.waitKey(25) & 0xff == ord(\"p\"):    ### pressing the p key it turn off and wetkey to make the video fast(5) or slow(40) \n",
    "            break\n",
    "    else:\n",
    "        break\n",
    "\n",
    "cap.release()\n",
    "cv2.destroyAllWindows()\n",
    "cv2.waitKey(1) "
   ]
  },
  {
   "cell_type": "markdown",
   "id": "832e9852-3681-4a9a-86f0-286f25256faf",
   "metadata": {},
   "source": [
    "## Morphological operation"
   ]
  },
  {
   "cell_type": "code",
   "execution_count": null,
   "id": "85551d26-6cce-450d-b7c0-5610531c8f79",
   "metadata": {},
   "outputs": [],
   "source": [
    "img = cv2.imread(\"img\")\n",
    "img = cv2.resize(img, (500,600))\n",
    "k = np.onces((10.10),np.int8)\n",
    " op = cv2.morphologyEx(img, cv2.MORPH_OPEN,k,iterations = 1)\n",
    "# op = cv2.morphologyEx(img, cv2.MORPH_CLOSE,k,iterations = 1)  \n",
    "# op = cv2.morphologyEx(img, cv2.MORPH_GRADIENT,k,iterations = 1) \n",
    "# op = cv2.morphologyEx(img, cv2.MORPH_TOPHAT,k,iterations = 1)\n",
    "# op = cv2.morphologyEx(img, cv2.MORPH_BLACKHAT,k,iterations = 1)  \n",
    "cv2.imshow(\"ws\",img)\n",
    "cv2.waitKey(0)\n",
    "cv2.destroyAllWindows()\n",
    "cv2.waitKey(1)"
   ]
  },
  {
   "cell_type": "markdown",
   "id": "264eb92a-1524-4fd3-ad5d-5cd45fff005d",
   "metadata": {},
   "source": [
    "## pyramid"
   ]
  },
  {
   "cell_type": "code",
   "execution_count": 35,
   "id": "c76261ba-dd15-44f7-89a1-1492536ff81c",
   "metadata": {},
   "outputs": [
    {
     "data": {
      "text/plain": [
       "-1"
      ]
     },
     "execution_count": 35,
     "metadata": {},
     "output_type": "execute_result"
    }
   ],
   "source": [
    "org_img = cv2.imread(\"img1.jpg\")\n",
    "new_img = cv2.pyrDown(org_img)\n",
    "cv2.imshow(\"window\", org_img)\n",
    "cv2.imshow(\"window1\", new_img)  ## smaller size to the half of original\n",
    "\n",
    "new2_img = cv2.pyrUp(org_img)\n",
    "cv2.imshow(\"window3\", new2_img)\n",
    "# Wait until any key is pressed\n",
    "k = cv2.waitKey(0)\n",
    "\n",
    "# Make sure window gets focus (macOS sometimes needs this)\n",
    "cv2.destroyAllWindows()\n",
    "cv2.waitKey(1)  # Ensure the destroy command completes\n",
    "\n"
   ]
  },
  {
   "cell_type": "markdown",
   "id": "6b513b6f-ca67-4daf-8edb-b2c097644f8f",
   "metadata": {},
   "source": [
    "## image croping"
   ]
  },
  {
   "cell_type": "code",
   "execution_count": 43,
   "id": "fe9d45b7-b152-45c6-b03b-ab1a746b0f1b",
   "metadata": {},
   "outputs": [
    {
     "data": {
      "text/plain": [
       "-1"
      ]
     },
     "execution_count": 43,
     "metadata": {},
     "output_type": "execute_result"
    }
   ],
   "source": [
    "org_img = cv2.imread(\"img1.jpg\")\n",
    "org_img = cv2.resize(org_img, (500,500))\n",
    "m = np.float32([[1,0,10],[1,5,15]])\n",
    "new_img = cv2.warpAffine(org_img, m, (500,500))\n",
    "cv2.imshow(\"window\", org_img)\n",
    "cv2.imshow(\"window1\", new_img)  ## smaller size to the half of original\n",
    "\n",
    "# Wait until any key is pressed\n",
    "k = cv2.waitKey(0)\n",
    "\n",
    "# Make sure window gets focus (macOS sometimes needs this)\n",
    "cv2.destroyAllWindows()\n",
    "cv2.waitKey(1)  # Ensure the destroy command completes\n",
    "\n"
   ]
  },
  {
   "cell_type": "markdown",
   "id": "375db109-57e3-4a47-b7ec-05ffb02f2f4b",
   "metadata": {},
   "source": [
    "# BackGround removal on video"
   ]
  },
  {
   "cell_type": "code",
   "execution_count": 46,
   "id": "bd716250-240a-48db-9bca-fe2c3ec39a69",
   "metadata": {},
   "outputs": [
    {
     "data": {
      "text/plain": [
       "-1"
      ]
     },
     "execution_count": 46,
     "metadata": {},
     "output_type": "execute_result"
    }
   ],
   "source": [
    "cap = cv2.VideoCapture(0)\n",
    "sub_m = cv2.createBackgroundSubtractorMOG2()\n",
    "while True: \n",
    "    r,frame = cap.read()   ## it gives the boolean value, frame of the video in images\n",
    "    if r == True:\n",
    "        frame = cv2.resize(frame, (500, 600))\n",
    "        sub_v = sub_m.apply(frame)\n",
    "        cv2.imshow(\"window1\", sub_v)\n",
    "        cv2.imshow(\"window\", frame)\n",
    "        if cv2.waitKey(25) & 0xff == ord(\"p\"):    ### pressing the p key it turn off and wetkey to make the video fast(5) or slow(40) \n",
    "            break\n",
    "    else:\n",
    "        break\n",
    "\n",
    "cap.release()\n",
    "cv2.destroyAllWindows()\n",
    "cv2.waitKey(1) "
   ]
  },
  {
   "cell_type": "markdown",
   "id": "71d3b644-26f2-471f-b7b2-17394ab14c88",
   "metadata": {},
   "source": [
    "# abstracting images from the video\n"
   ]
  },
  {
   "cell_type": "code",
   "execution_count": null,
   "id": "85676a85-20c2-41c9-854c-16efad3c6946",
   "metadata": {},
   "outputs": [],
   "source": [
    "cap = cv2.VideoCapture(0)\n",
    "while True:\n",
    "    r,frame = cap.read()\n",
    "    if r == True:\n",
    "        frame = cv2.resize(frame, (500,600))\n",
    "        file_name = \"org_img\" + str(c) + \".png\"\n",
    "        cv2.imwrite(file_name,frame)\n",
    "        cv2.imshow(\"window\",frame)\n",
    "        c = c+1\n",
    "        if cv2.waitKey(25) & 0xff == (\"p\"):\n",
    "            break\n",
    "    else:\n",
    "        break\n",
    "cap.release()\n",
    "cv2.destroyAllWindows()\n",
    "cv2.waitKey(1)\n",
    "    "
   ]
  },
  {
   "cell_type": "markdown",
   "id": "cede5007-848d-49bc-b193-20e09ae0a626",
   "metadata": {},
   "source": [
    "## changing color of the images"
   ]
  },
  {
   "cell_type": "code",
   "execution_count": 54,
   "id": "fdd7fb2e-f8d0-47ce-8bfb-f2d3ccfef0e9",
   "metadata": {},
   "outputs": [
    {
     "data": {
      "text/plain": [
       "-1"
      ]
     },
     "execution_count": 54,
     "metadata": {},
     "output_type": "execute_result"
    }
   ],
   "source": [
    "org_img = cv2.imread(\"img1.jpg\")\n",
    "org_img = cv2.resize(org_img, (500,600))\n",
    "new_img = cv2.cvtColor(org_img, cv2.COLOR_BGR2GRAY)\n",
    "cv2.imshow(\"window\", org_img)\n",
    "cv2.imshow(\"window1\", new_img)\n",
    "cv2.waitKey(0)\n",
    "cv2.destroyAllWindows()\n",
    "cv2.waitKey(1)"
   ]
  },
  {
   "cell_type": "markdown",
   "id": "8bed924c-434d-4cdc-9a4b-ca3645a5aafc",
   "metadata": {},
   "source": [
    "## croping the images"
   ]
  },
  {
   "cell_type": "code",
   "execution_count": 103,
   "id": "4933c5a4-8fe6-4460-bf5e-55a1cae3db96",
   "metadata": {},
   "outputs": [
    {
     "data": {
      "text/plain": [
       "-1"
      ]
     },
     "execution_count": 103,
     "metadata": {},
     "output_type": "execute_result"
    }
   ],
   "source": [
    "org_img = cv2.imread(\"img1.jpg\")\n",
    "org_img = cv2.resize(org_img, (500,600))\n",
    "crop = org_img[100:400,50:]  ##[y1:y2, x1:x2]\n",
    "cv2.imshow(\"window\", org_img)\n",
    "cv2.imshow(\"window1\", crop)\n",
    "cv2.waitKey(0)\n",
    "cv2.destroyAllWindows()\n",
    "cv2.waitKey(1)"
   ]
  },
  {
   "cell_type": "markdown",
   "id": "58d1cb06-f4cb-409f-99a6-4995ff96db72",
   "metadata": {},
   "source": [
    "  ## creating an  blank images ....white and black"
   ]
  },
  {
   "cell_type": "code",
   "execution_count": 108,
   "id": "e31133ea-422e-4fdc-9f2e-540cbcdb9fe9",
   "metadata": {},
   "outputs": [
    {
     "data": {
      "text/plain": [
       "-1"
      ]
     },
     "execution_count": 108,
     "metadata": {},
     "output_type": "execute_result"
    }
   ],
   "source": [
    "new_img = np.ones((500,500,3),np.uint8)*255\n",
    "cv2.imshow(\"window\", new_img)\n",
    "cv2.waitKey(0)\n",
    "cv2.destroyAllWindows()\n",
    "cv2.waitKey(1)"
   ]
  },
  {
   "cell_type": "code",
   "execution_count": 110,
   "id": "0c040f31-e989-4f98-8f77-6d0bbaca92bd",
   "metadata": {},
   "outputs": [
    {
     "data": {
      "text/plain": [
       "-1"
      ]
     },
     "execution_count": 110,
     "metadata": {},
     "output_type": "execute_result"
    }
   ],
   "source": [
    "new_img = np.zeros((500,500,3),np.uint8)*255\n",
    "cv2.imshow(\"window\", new_img)\n",
    "cv2.waitKey(0)\n",
    "cv2.destroyAllWindows()\n",
    "cv2.waitKey(1)"
   ]
  },
  {
   "cell_type": "markdown",
   "id": "5da425ac-4732-4cf3-b09d-157bc7c32f28",
   "metadata": {},
   "source": [
    "## color trackbar design"
   ]
  },
  {
   "cell_type": "code",
   "execution_count": 115,
   "id": "13d4a6f3-3dae-4e59-8a97-8dae706d70db",
   "metadata": {},
   "outputs": [],
   "source": [
    "def funct(x):\n",
    "    pass"
   ]
  },
  {
   "cell_type": "code",
   "execution_count": 117,
   "id": "666a941f-bace-4141-8272-a8ca0bdf0040",
   "metadata": {},
   "outputs": [
    {
     "data": {
      "text/plain": [
       "-1"
      ]
     },
     "execution_count": 117,
     "metadata": {},
     "output_type": "execute_result"
    }
   ],
   "source": [
    "img = np.zeros((500,500,3),np.uint8)*255\n",
    "cv2.namedWindow(\"colour\")\n",
    "cv2.createTrackbar(\"R\",\"colour\",0,255,funct)\n",
    "cv2.createTrackbar(\"G\",\"colour\",0,255,funct)\n",
    "cv2.createTrackbar(\"B\",\"colour\",0,255,funct)\n",
    "\n",
    "while True:\n",
    "    cv2.imshow(\"colour\",img)\n",
    "    if cv2.waitKey(1) & 0xff == ord(\"p\"):\n",
    "        break\n",
    "    r = cv2.getTrackbarPos(\"R\",\"colour\")\n",
    "    g = cv2.getTrackbarPos(\"G\",\"colour\")\n",
    "    b = cv2.getTrackbarPos(\"B\",\"colour\")\n",
    "    \n",
    "    img[:] = [b,g,r]\n",
    "cv2.destroyAllWindows()\n",
    "cv2.waitKey(1)"
   ]
  },
  {
   "cell_type": "markdown",
   "id": "cf4d6a72-7d15-4317-b0a9-ce545c24cd5e",
   "metadata": {},
   "source": [
    "## fliping the image on x, y axis"
   ]
  },
  {
   "cell_type": "code",
   "execution_count": 129,
   "id": "8c3f691a-8be3-4c29-8d3f-57b1bdb9f81d",
   "metadata": {},
   "outputs": [
    {
     "data": {
      "text/plain": [
       "-1"
      ]
     },
     "execution_count": 129,
     "metadata": {},
     "output_type": "execute_result"
    }
   ],
   "source": [
    "img = cv2.imread(\"img1.jpg\")\n",
    "img = cv2.resize(img, (500,600))\n",
    "# img = cv2.flip(img, 1) ## on x axis\n",
    "# img = cv2.flip(img, 0) ## on y axis\n",
    "# img = cv2.flip(img, -1) # on both side\n",
    "img = cv2.rotate(img, cv2.ROTATE_90_COUNTERCLOCKWISE)\n",
    "cv2.imshow(\"window\", img)\n",
    "cv2.waitKey(0)\n",
    "cv2.destroyAllWindows()\n",
    "cv2.waitKey(1)"
   ]
  },
  {
   "cell_type": "markdown",
   "id": "525f5fb7-6e15-4676-a77b-7845d56d29b6",
   "metadata": {},
   "source": [
    "## saving the live video "
   ]
  },
  {
   "cell_type": "code",
   "execution_count": 141,
   "id": "fd55414a-595e-44d9-975c-ca558532db67",
   "metadata": {},
   "outputs": [
    {
     "data": {
      "text/plain": [
       "-1"
      ]
     },
     "execution_count": 141,
     "metadata": {},
     "output_type": "execute_result"
    }
   ],
   "source": [
    "import cv2\n",
    "\n",
    "cap = cv2.VideoCapture(0)\n",
    "f = cv2.VideoWriter_fourcc(*'avc1')  # H.264 for .mp4\n",
    "out = cv2.VideoWriter(\"demo.mp4\", f, 20.0, (640, 480))\n",
    "\n",
    "while True:\n",
    "    ret, frame = cap.read()\n",
    "    if ret:\n",
    "        frame = cv2.flip(frame, 1)\n",
    "        out.write(frame)\n",
    "        cv2.imshow(\"window\", frame)\n",
    "        if cv2.waitKey(25) & 0xFF == ord(\"p\"):\n",
    "            break\n",
    "    else:\n",
    "        break\n",
    "\n",
    "cap.release()\n",
    "out.release()\n",
    "cv2.destroyAllWindows()\n",
    "cv2.waitKey(1)"
   ]
  },
  {
   "cell_type": "code",
   "execution_count": null,
   "id": "2d42b2e1-4cf9-41f4-aa84-8a8565477e56",
   "metadata": {},
   "outputs": [],
   "source": []
  }
 ],
 "metadata": {
  "kernelspec": {
   "display_name": "Python [conda env:base] *",
   "language": "python",
   "name": "conda-base-py"
  },
  "language_info": {
   "codemirror_mode": {
    "name": "ipython",
    "version": 3
   },
   "file_extension": ".py",
   "mimetype": "text/x-python",
   "name": "python",
   "nbconvert_exporter": "python",
   "pygments_lexer": "ipython3",
   "version": "3.12.7"
  }
 },
 "nbformat": 4,
 "nbformat_minor": 5
}
