{
 "cells": [
  {
   "cell_type": "code",
   "execution_count": 2,
   "id": "37503a33-b0a4-4aa1-9035-feaa1b06c7b6",
   "metadata": {},
   "outputs": [],
   "source": [
    "import cv2"
   ]
  },
  {
   "cell_type": "code",
   "execution_count": 10,
   "id": "bc401549-bd07-4749-9769-8e1b5c75eef1",
   "metadata": {},
   "outputs": [
    {
     "data": {
      "text/plain": [
       "-1"
      ]
     },
     "execution_count": 10,
     "metadata": {},
     "output_type": "execute_result"
    }
   ],
   "source": [
    "import cv2\n",
    "\n",
    "img = cv2.imread(\"img1.jpg\",1)\n",
    "cv2.imshow(\"window\", img)\n",
    "\n",
    "# Wait until any key is pressed\n",
    "k = cv2.waitKey(0)\n",
    "\n",
    "# Make sure window gets focus (macOS sometimes needs this)\n",
    "cv2.destroyAllWindows()\n",
    "cv2.waitKey(1)  # Ensure the destroy command completes\n"
   ]
  },
  {
   "cell_type": "markdown",
   "id": "9312b50c-de28-4345-9d4c-06de65070e31",
   "metadata": {},
   "source": [
    "# color of image\n"
   ]
  },
  {
   "cell_type": "code",
   "execution_count": 12,
   "id": "5831066f-ab19-4f0d-b56a-f57a269566e4",
   "metadata": {},
   "outputs": [
    {
     "data": {
      "text/plain": [
       "-1"
      ]
     },
     "execution_count": 12,
     "metadata": {},
     "output_type": "execute_result"
    }
   ],
   "source": [
    "img = cv2.imread(\"img1.jpg\", 0)\n",
    "cv2.imshow(\"window\", img)\n",
    "k = cv2.waitKey(0)\n",
    "cv2.destroyAllWindows()\n",
    "cv2.waitKey(1)"
   ]
  },
  {
   "cell_type": "markdown",
   "id": "dec73f4c-c384-4e94-b617-5677be99140e",
   "metadata": {},
   "source": [
    "### text on image"
   ]
  },
  {
   "cell_type": "code",
   "execution_count": 26,
   "id": "5c0608f7-73ed-4dff-87e8-d94e13a032b2",
   "metadata": {},
   "outputs": [
    {
     "data": {
      "text/plain": [
       "-1"
      ]
     },
     "execution_count": 26,
     "metadata": {},
     "output_type": "execute_result"
    }
   ],
   "source": [
    "import cv2\n",
    "\n",
    "img = cv2.imread(\"img1.jpg\",1)\n",
    "img = cv2.resize(img,(500,600))\n",
    "txt = cv2.putText(\n",
    "img = img,\n",
    "text = 'Bedanta',\n",
    "org = (50, 70),\n",
    "fontFace = cv2.FONT_HERSHEY_DUPLEX,\n",
    "fontScale = 3,\n",
    "color = (0, 0, 225),\n",
    "thickness = 3,\n",
    "lineType = cv2.LINE_8,\n",
    "bottomLeftOrigin = False\n",
    ")\n",
    "cv2.imshow(\"window\", img)\n",
    "k = cv2.waitKey(0)\n",
    "\n",
    "cv2.destroyAllWindows()\n",
    "cv2.waitKey(1)  \n"
   ]
  },
  {
   "cell_type": "markdown",
   "id": "93259749-41f3-4cab-a09f-e31b9b5b9063",
   "metadata": {},
   "source": [
    "### line on image\n"
   ]
  },
  {
   "cell_type": "code",
   "execution_count": 33,
   "id": "68effc5e-9c64-4b7d-b213-c593a084a418",
   "metadata": {},
   "outputs": [
    {
     "data": {
      "text/plain": [
       "-1"
      ]
     },
     "execution_count": 33,
     "metadata": {},
     "output_type": "execute_result"
    }
   ],
   "source": [
    "import cv2\n",
    "\n",
    "img = cv2.imread(\"img1.jpg\",1)\n",
    "img = cv2.resize(img,(500,600))\n",
    "new_img = cv2.line(img = img, pt1=(100, 100), pt2=(400, 100), color=(0,0, 255), thickness=4, lineType=8)\n",
    "cv2.imshow(\"window\", new_img)\n",
    "k = cv2.waitKey(0)\n",
    "\n",
    "cv2.destroyAllWindows()\n",
    "cv2.waitKey(1)  \n"
   ]
  },
  {
   "cell_type": "code",
   "execution_count": 35,
   "id": "ad5c2c84-caa2-4add-81fe-9be09b4dd87a",
   "metadata": {},
   "outputs": [
    {
     "data": {
      "text/plain": [
       "-1"
      ]
     },
     "execution_count": 35,
     "metadata": {},
     "output_type": "execute_result"
    }
   ],
   "source": [
    "import cv2\n",
    "\n",
    "img = cv2.imread(\"img1.jpg\",1)\n",
    "img = cv2.resize(img,(500,600))\n",
    "new_img = cv2.rectangle(img = img, pt1=(100, 100), pt2=(400, 350), color=(0,0, 255), thickness=4, lineType=8)\n",
    "cv2.imshow(\"window\", new_img)\n",
    "k = cv2.waitKey(0)\n",
    "\n",
    "cv2.destroyAllWindows()\n",
    "cv2.waitKey(1)  \n"
   ]
  },
  {
   "cell_type": "markdown",
   "id": "9978e2d5-17ac-4244-b10f-ad9a6d2418d2",
   "metadata": {},
   "source": [
    "### circle"
   ]
  },
  {
   "cell_type": "code",
   "execution_count": 44,
   "id": "93977ded-d426-4525-9ae5-51c964612116",
   "metadata": {},
   "outputs": [
    {
     "data": {
      "text/plain": [
       "-1"
      ]
     },
     "execution_count": 44,
     "metadata": {},
     "output_type": "execute_result"
    }
   ],
   "source": [
    "img = cv2.imread(\"img1.jpg\")\n",
    "img = cv2.resize(img, (500,600))\n",
    "new_img = cv2.circle(img = img, center = (250, 150), radius=100, color=(0,255,0), thickness=4, lineType=16)\n",
    "cv2.imshow(\"window\", new_img)\n",
    "k = cv2.waitKey(0)\n",
    "cv2.destroyAllWindows()\n",
    "cv2.waitKey(1)\n"
   ]
  },
  {
   "cell_type": "code",
   "execution_count": 46,
   "id": "321ce4a7-26d4-423f-8de7-311585b9bc44",
   "metadata": {},
   "outputs": [
    {
     "data": {
      "text/plain": [
       "-1"
      ]
     },
     "execution_count": 46,
     "metadata": {},
     "output_type": "execute_result"
    }
   ],
   "source": [
    " img = cv2.imread(\"img1.jpg\")\n",
    "img = cv2.resize(img, (500,600))\n",
    "new_img = cv2.circle(img = img, center = (250, 150), radius=100, color=(0,255,0), thickness=-1, lineType=16) ##filing the image\n",
    "cv2.imshow(\"window\", new_img)\n",
    "k = cv2.waitKey(0)\n",
    "cv2.destroyAllWindows()\n",
    "cv2.waitKey(1)\n"
   ]
  },
  {
   "cell_type": "markdown",
   "id": "951f8abd-3687-4dd4-ac78-ee74daa3ad7b",
   "metadata": {},
   "source": [
    "### Ellipes"
   ]
  },
  {
   "cell_type": "code",
   "execution_count": 60,
   "id": "90ddadfc-9aa0-4361-ab3c-2fdc1e6f96de",
   "metadata": {},
   "outputs": [
    {
     "data": {
      "text/plain": [
       "-1"
      ]
     },
     "execution_count": 60,
     "metadata": {},
     "output_type": "execute_result"
    }
   ],
   "source": [
    " img = cv2.imread(\"img1.jpg\")\n",
    "img = cv2.resize(img, (500,600))\n",
    "\n",
    "txt_img = cv2.putText(\n",
    "img = img,\n",
    "text=\"sarukh\",\n",
    "org=(320, 200),\n",
    "fontFace=2,\n",
    "fontScale=1,\n",
    "color=(0,0,255),\n",
    "thickness=2,\n",
    "lineType=16,\n",
    "bottomLeftOrigin=False\n",
    ")\n",
    "new_img = cv2.ellipse(img = txt_img, center = (250, 150), axes=(70, 100), angle=30, startAngle=0, endAngle=360, color=(0,255,0), thickness=4, lineType=16) ##filing the image\n",
    "cv2.imshow(\"window\", new_img)\n",
    "k = cv2.waitKey(0)\n",
    "cv2.destroyAllWindows()\n",
    "cv2.waitKey(1)\n"
   ]
  },
  {
   "cell_type": "markdown",
   "id": "21bfa12f-5717-40f8-8918-da287cf7e8fb",
   "metadata": {},
   "source": [
    "### concate"
   ]
  },
  {
   "cell_type": "code",
   "execution_count": 63,
   "id": "38b266f1-bd1d-47e1-b7ea-1dde3efd975e",
   "metadata": {},
   "outputs": [
    {
     "data": {
      "text/plain": [
       "-1"
      ]
     },
     "execution_count": 63,
     "metadata": {},
     "output_type": "execute_result"
    }
   ],
   "source": [
    " img = cv2.imread(\"img1.jpg\")\n",
    "img2 = cv2.imread(\"img2.jpeg\")\n",
    "img = cv2.resize(img, (500,600))\n",
    "img2 = cv2.resize(img2, (500,600))\n",
    "new_img = cv2.addWeighted(img,1, img2, 1, 1)\n",
    "cv2.imshow(\"window\", new_img)\n",
    "k = cv2.waitKey(0)\n",
    "cv2.destroyAllWindows()\n",
    "cv2.waitKey(1)\n"
   ]
  },
  {
   "cell_type": "markdown",
   "id": "ba4a0b1b-efe0-4005-b947-439c320458bc",
   "metadata": {},
   "source": [
    "### bitwise "
   ]
  },
  {
   "cell_type": "markdown",
   "id": "52e612ed-0df0-4501-9b96-84e8a1a804bb",
   "metadata": {},
   "source": [
    "### edges detection"
   ]
  },
  {
   "cell_type": "code",
   "execution_count": 67,
   "id": "0e45d871-87d5-407b-9c14-56eb6aac4c1e",
   "metadata": {},
   "outputs": [
    {
     "data": {
      "text/plain": [
       "-1"
      ]
     },
     "execution_count": 67,
     "metadata": {},
     "output_type": "execute_result"
    }
   ],
   "source": [
    "img = cv2.imread(\"img1.jpg\")\n",
    "img = cv2.resize(img, (500,600))\n",
    "new_img = cv2.Canny(img,50,50)\n",
    "cv2.imshow(\"window\", new_img)\n",
    "k = cv2.waitKey(0)\n",
    "cv2.destroyAllWindows()\n",
    "cv2.waitKey(1)\n"
   ]
  },
  {
   "cell_type": "markdown",
   "id": "dd3b26c9-2814-4cc6-850d-31cd461810b1",
   "metadata": {},
   "source": [
    "### rotation"
   ]
  },
  {
   "cell_type": "code",
   "execution_count": 70,
   "id": "4fc73ccb-a4c6-4b1c-becd-dd52eb7adc61",
   "metadata": {},
   "outputs": [],
   "source": [
    "import numpy as np"
   ]
  },
  {
   "cell_type": "code",
   "execution_count": 72,
   "id": "d5874eba-0da8-49a2-8835-74369bf845df",
   "metadata": {},
   "outputs": [
    {
     "data": {
      "text/plain": [
       "-1"
      ]
     },
     "execution_count": 72,
     "metadata": {},
     "output_type": "execute_result"
    }
   ],
   "source": [
    "img = cv2.imread(\"img1.jpg\")\n",
    "img = cv2.resize(img, (500,600))\n",
    "w,h = img.shape[0], img.shape[1]\n",
    "m = cv2.getRotationMatrix2D((w/2, h/2),90,1)  ##multiplication matrix\n",
    "new_img = cv2.warpAffine(img,m,(h,w))         ##function to rotate it using center\n",
    "h = np.hstack((new_img, img))\n",
    "cv2.imshow(\"window\", h)\n",
    "k = cv2.waitKey(0)\n",
    "cv2.destroyAllWindows()\n",
    "cv2.waitKey(1)\n"
   ]
  },
  {
   "cell_type": "code",
   "execution_count": null,
   "id": "9f6ffb8f-f14b-46ef-ac09-a7095d1aeebe",
   "metadata": {},
   "outputs": [],
   "source": []
  }
 ],
 "metadata": {
  "kernelspec": {
   "display_name": "Python [conda env:base] *",
   "language": "python",
   "name": "conda-base-py"
  },
  "language_info": {
   "codemirror_mode": {
    "name": "ipython",
    "version": 3
   },
   "file_extension": ".py",
   "mimetype": "text/x-python",
   "name": "python",
   "nbconvert_exporter": "python",
   "pygments_lexer": "ipython3",
   "version": "3.12.7"
  }
 },
 "nbformat": 4,
 "nbformat_minor": 5
}
