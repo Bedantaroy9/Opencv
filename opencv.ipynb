{
 "cells": [
  {
   "cell_type": "code",
   "execution_count": 2,
   "id": "3f876702-1d1e-4259-af1c-c34126da4a3a",
   "metadata": {},
   "outputs": [
    {
     "name": "stdout",
     "output_type": "stream",
     "text": [
      "OpenCV version: 4.11.0\n"
     ]
    }
   ],
   "source": [
    "import cv2\n",
    "print(\"OpenCV version:\", cv2.__version__)\n"
   ]
  },
  {
   "cell_type": "code",
   "execution_count": 12,
   "id": "52a4c815-2d44-40fa-9b0e-b182000daa9e",
   "metadata": {},
   "outputs": [
    {
     "data": {
      "text/plain": [
       "-1"
      ]
     },
     "execution_count": 12,
     "metadata": {},
     "output_type": "execute_result"
    }
   ],
   "source": [
    "import cv2\n",
    "\n",
    "img = cv2.imread(\"img1.jpg\")\n",
    "cv2.imshow(\"window\", img)\n",
    "\n",
    "# Wait until any key is pressed\n",
    "k = cv2.waitKey(0)\n",
    "\n",
    "# Make sure window gets focus (macOS sometimes needs this)\n",
    "cv2.destroyAllWindows()\n",
    "cv2.waitKey(1)  # Ensure the destroy command completes\n"
   ]
  },
  {
   "cell_type": "code",
   "execution_count": 14,
   "id": "8026bf45-07c2-4a98-8247-dd938ce460f5",
   "metadata": {},
   "outputs": [
    {
     "data": {
      "text/plain": [
       "-1"
      ]
     },
     "execution_count": 14,
     "metadata": {},
     "output_type": "execute_result"
    }
   ],
   "source": [
    "import cv2\n",
    "\n",
    "img = cv2.imread(\"img1.jpg\")\n",
    "cv2.imshow(\"window\", img)\n",
    "cv2.imshow(\"window1\", img)  #multiple windows\n",
    "# Wait until any key is pressed\n",
    "k = cv2.waitKey(0)\n",
    "\n",
    "# Make sure window gets focus (macOS sometimes needs this)\n",
    "cv2.destroyAllWindows()\n",
    "cv2.waitKey(1)  # Ensure the destroy command completes\n"
   ]
  },
  {
   "cell_type": "markdown",
   "id": "898d21ab-3a83-4f33-afae-85bc827f9307",
   "metadata": {},
   "source": [
    "#Resize image"
   ]
  },
  {
   "cell_type": "code",
   "execution_count": 17,
   "id": "d06e6f79-1475-443a-a406-45d7ce70bce0",
   "metadata": {},
   "outputs": [
    {
     "data": {
      "text/plain": [
       "-1"
      ]
     },
     "execution_count": 17,
     "metadata": {},
     "output_type": "execute_result"
    }
   ],
   "source": [
    "import cv2\n",
    "\n",
    "img = cv2.imread(\"img1.jpg\")\n",
    "re_size = cv2.resize(img, (500, 300))\n",
    "cv2.imshow(\"window\", re_size)\n",
    "\n",
    "# Wait until any key is pressed\n",
    "k = cv2.waitKey(0)\n",
    "\n",
    "# Make sure window gets focus (macOS sometimes needs this)\n",
    "cv2.destroyAllWindows()\n",
    "cv2.waitKey(1)  # Ensure the destroy command completes\n"
   ]
  },
  {
   "cell_type": "markdown",
   "id": "845042c1-4ffe-42f4-bee2-d060579df4b1",
   "metadata": {},
   "source": [
    "### join images"
   ]
  },
  {
   "cell_type": "code",
   "execution_count": 20,
   "id": "9c79b13e-2e9b-41aa-83f4-840a93bf52bc",
   "metadata": {},
   "outputs": [],
   "source": [
    "import numpy as np"
   ]
  },
  {
   "cell_type": "code",
   "execution_count": 22,
   "id": "0c4c4323-cdac-4b0a-9bff-d9340312d881",
   "metadata": {},
   "outputs": [
    {
     "data": {
      "text/plain": [
       "-1"
      ]
     },
     "execution_count": 22,
     "metadata": {},
     "output_type": "execute_result"
    }
   ],
   "source": [
    "import cv2\n",
    "\n",
    "img = cv2.imread(\"img1.jpg\")\n",
    "re_size = cv2.resize(img, (500, 500))\n",
    "h = np.hstack((re_size, re_size))  ## horizontally\n",
    "#v = np.vstack((re_size, re_size))\n",
    "cv2.imshow(\"window\", h)\n",
    "\n",
    "# Wait until any key is pressed\n",
    "k = cv2.waitKey(0)\n",
    "\n",
    "# Make sure window gets focus (macOS sometimes needs this)\n",
    "cv2.destroyAllWindows()\n",
    "cv2.waitKey(1)  # Ensure the destroy command completes\n"
   ]
  },
  {
   "cell_type": "code",
   "execution_count": null,
   "id": "b522d0c2-324a-48f7-8757-5fbe034304a6",
   "metadata": {},
   "outputs": [],
   "source": []
  }
 ],
 "metadata": {
  "kernelspec": {
   "display_name": "Python [conda env:base] *",
   "language": "python",
   "name": "conda-base-py"
  },
  "language_info": {
   "codemirror_mode": {
    "name": "ipython",
    "version": 3
   },
   "file_extension": ".py",
   "mimetype": "text/x-python",
   "name": "python",
   "nbconvert_exporter": "python",
   "pygments_lexer": "ipython3",
   "version": "3.12.7"
  }
 },
 "nbformat": 4,
 "nbformat_minor": 5
}
