{
 "cells": [
  {
   "cell_type": "code",
   "execution_count": 3,
   "id": "a851ab3e-b344-4534-b633-a8831d454e24",
   "metadata": {},
   "outputs": [],
   "source": [
    "import cv2"
   ]
  },
  {
   "cell_type": "markdown",
   "id": "2f970283-fa92-4656-8a1a-2274aa5eaeea",
   "metadata": {},
   "source": [
    "## putting vidio clipes to the a file"
   ]
  },
  {
   "cell_type": "code",
   "execution_count": 7,
   "id": "bc1de2fa-4509-4d01-afb3-b2b3ad992ec8",
   "metadata": {},
   "outputs": [
    {
     "data": {
      "text/plain": [
       "-1"
      ]
     },
     "execution_count": 7,
     "metadata": {},
     "output_type": "execute_result"
    }
   ],
   "source": [
    "cap = cv2.VideoCapture(0)\n",
    "\n",
    "c = 1;\n",
    "while True:\n",
    "    r,f = cap.read()\n",
    "    if r==True:\n",
    "        file_name = \"/Users/bedantaroy/Desktop/new_opencv/new_opencv\" + str(c) + \".jpg\"\n",
    "        cv2.imwrite(file_name, f)\n",
    "        c = c+1\n",
    "        cv2.imshow(\"ws\",f)\n",
    "        if cv2.waitKey(25) & 0xff == ord(\"p\"):\n",
    "            break\n",
    "    else:\n",
    "        break\n",
    "    \n",
    "\n",
    "cap.release()\n",
    "cv2.destroyAllWindows()\n",
    "cv2.waitKey(1)"
   ]
  },
  {
   "cell_type": "markdown",
   "id": "d84ef08e-4e6d-4880-aa9c-490e60100e00",
   "metadata": {},
   "source": [
    "## Car detection using CascadeClassifier"
   ]
  },
  {
   "cell_type": "code",
   "execution_count": 13,
   "id": "c4e2c60a-b935-42c5-bcbb-0e58ebf1daa9",
   "metadata": {},
   "outputs": [
    {
     "data": {
      "text/plain": [
       "-1"
      ]
     },
     "execution_count": 13,
     "metadata": {},
     "output_type": "execute_result"
    }
   ],
   "source": [
    "cap = cv2.VideoCapture(\"video1.avi\")\n",
    "\n",
    "while True:\n",
    "    r,f = cap.read()\n",
    "    if r==True:\n",
    "        gry = cv2.cvtColor(f,cv2.COLOR_BGR2GRAY)\n",
    "        car = cv2.CascadeClassifier(\"cars.xml\")\n",
    "        cars = car.detectMultiScale(gry,1.2,3)\n",
    "\n",
    "        for (x,y,w,h) in cars:\n",
    "            cv2.rectangle(f, (x,y),(x+w, y+h), (0,0,255),3)                   \n",
    "        cv2.imshow(\"ws\",f)\n",
    "        if cv2.waitKey(25) & 0xff == ord(\"p\"):\n",
    "            break\n",
    "    else:\n",
    "        break\n",
    "    \n",
    "\n",
    "cap.release()\n",
    "cv2.destroyAllWindows()\n",
    "cv2.waitKey(1)"
   ]
  },
  {
   "cell_type": "code",
   "execution_count": null,
   "id": "461175b2-e686-48a8-80d1-35634da128f2",
   "metadata": {},
   "outputs": [],
   "source": []
  },
  {
   "cell_type": "code",
   "execution_count": null,
   "id": "66a45e40-64f1-4322-97bd-35ef28ae3ddd",
   "metadata": {},
   "outputs": [],
   "source": []
  }
 ],
 "metadata": {
  "kernelspec": {
   "display_name": "Python [conda env:base] *",
   "language": "python",
   "name": "conda-base-py"
  },
  "language_info": {
   "codemirror_mode": {
    "name": "ipython",
    "version": 3
   },
   "file_extension": ".py",
   "mimetype": "text/x-python",
   "name": "python",
   "nbconvert_exporter": "python",
   "pygments_lexer": "ipython3",
   "version": "3.12.7"
  }
 },
 "nbformat": 4,
 "nbformat_minor": 5
}
