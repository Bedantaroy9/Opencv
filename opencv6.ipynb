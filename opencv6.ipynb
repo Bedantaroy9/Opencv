{
 "cells": [
  {
   "cell_type": "code",
   "execution_count": 1,
   "id": "f51c130b-8931-4523-b705-f944906053db",
   "metadata": {},
   "outputs": [],
   "source": [
    "import cv2\n",
    "import numpy as np"
   ]
  },
  {
   "cell_type": "markdown",
   "id": "dd9759ee-0d28-49b2-a07d-91f4d7b716e2",
   "metadata": {},
   "source": [
    "## highlighting the lines ....HoughLinesp"
   ]
  },
  {
   "cell_type": "code",
   "execution_count": 11,
   "id": "6d51a9ea-0ea7-4cb3-9e16-c85c662761d8",
   "metadata": {},
   "outputs": [
    {
     "data": {
      "text/plain": [
       "-1"
      ]
     },
     "execution_count": 11,
     "metadata": {},
     "output_type": "execute_result"
    }
   ],
   "source": [
    "img = cv2.imread(\"suduku.png\")\n",
    "grey = cv2.cvtColor(img,cv2.COLOR_BGR2GRAY)\n",
    "\n",
    "edg = cv2.Canny(grey,20,250)\n",
    "\n",
    "l = cv2.HoughLinesP(edg,1,np.pi/180,200,minLineLength = 180, maxLineGap = 100)\n",
    "\n",
    "for i in l:\n",
    "    x1,y1,x2,y2 = i[0]\n",
    "    cv2.line(img,(x1,y1),(x2,y2),(0,255,0),2)\n",
    "    \n",
    "\n",
    "cv2.imshow(\"window\", img)\n",
    "cv2.waitKey(0)\n",
    "cv2.destroyAllWindows()\n",
    "cv2.waitKey(1)"
   ]
  },
  {
   "cell_type": "markdown",
   "id": "5ff84afe-e68e-4444-a5de-813af3b9339a",
   "metadata": {},
   "source": [
    "### template to detect img"
   ]
  },
  {
   "cell_type": "code",
   "execution_count": 29,
   "id": "ddbfd21f-209d-45e3-8638-fdb977f3e172",
   "metadata": {},
   "outputs": [
    {
     "data": {
      "text/plain": [
       "-1"
      ]
     },
     "execution_count": 29,
     "metadata": {},
     "output_type": "execute_result"
    }
   ],
   "source": [
    "img = cv2.imread(\"img1.jpg\")\n",
    "grey = cv2.cvtColor(img,cv2.COLOR_BGR2GRAY)\n",
    "\n",
    "tmp = cv2.imread(\"ssimg1.png\")\n",
    "grey1 = cv2.cvtColor(tmp,cv2.COLOR_BGR2GRAY)\n",
    "\n",
    "# Resize template if necessary\n",
    "if grey1.shape[0] > grey.shape[0] or grey1.shape[1] > grey.shape[1]:\n",
    "    scale = min(grey.shape[0] / grey1.shape[0], grey.shape[1] / grey1.shape[1])\n",
    "    grey1 = cv2.resize(grey1, (int(grey1.shape[1]*scale), int(grey1.shape[0]*scale)))\n",
    "\n",
    "w,h = grey1.shape[::-1]\n",
    "\n",
    "res = cv2.matchTemplate(grey,grey1,cv2.TM_CCOEFF_NORMED)\n",
    "\n",
    "thr = 0.99\n",
    "\n",
    "l = np.where(res >= thr)\n",
    "\n",
    "for i in zip(*l[::-1]):\n",
    "    cv2.rectangle(img, i, (i[0]+w, i[1]+h), (0,255,0), 2)\n",
    "    \n",
    "\n",
    "img = cv2.resize(img, (500,600))\n",
    "cv2.imshow(\"window\", img)\n",
    "cv2.waitKey(0)\n",
    "cv2.destroyAllWindows()\n",
    "cv2.waitKey(1)"
   ]
  },
  {
   "cell_type": "markdown",
   "id": "bdf928dc-f1b1-4265-96f0-00f9229f1ebe",
   "metadata": {},
   "source": [
    "## detecting circle"
   ]
  },
  {
   "cell_type": "code",
   "execution_count": 55,
   "id": "5524a364-9a4d-4091-a1d0-92e406f20c7f",
   "metadata": {},
   "outputs": [
    {
     "data": {
      "text/plain": [
       "-1"
      ]
     },
     "execution_count": 55,
     "metadata": {},
     "output_type": "execute_result"
    }
   ],
   "source": [
    "import cv2\n",
    "import numpy as np\n",
    "\n",
    "img = cv2.imread(\"balls.jpg\")\n",
    "gr = cv2.cvtColor(img, cv2.COLOR_BGR2GRAY)\n",
    "##gr = cv2.medianBlur(gr, 7)\n",
    "\n",
    "c = cv2.HoughCircles(gr, cv2.HOUGH_GRADIENT, 1, 20, param1=60, param2=30, minRadius=5, maxRadius=50)\n",
    "\n",
    "\n",
    "if c is not None:\n",
    "    data = np.uint16(np.around(c))\n",
    "    for (x, y, r) in data[0, :]:\n",
    "        cv2.circle(img, (x, y), r, (0, 255, 0), 4)\n",
    "else:\n",
    "    print(\"No circles detected!\")\n",
    "\n",
    "cv2.imshow(\"window\", img)\n",
    "cv2.waitKey(0)\n",
    "cv2.destroyAllWindows()\n",
    "cv2.waitKey(1)\n"
   ]
  },
  {
   "cell_type": "markdown",
   "id": "da8abeac-705c-46ca-89df-ceafdbc5b53b",
   "metadata": {},
   "source": [
    "### grapcut to remove the background\n"
   ]
  },
  {
   "cell_type": "code",
   "execution_count": null,
   "id": "9bafa75b-5155-4530-8f81-60bd2cbfe1fd",
   "metadata": {},
   "outputs": [],
   "source": [
    "img = cv2.imread(\"img1.jpg\")\n",
    "mask1 = np.zeros(img.shape[:,2],np.uint8)  #### Creates a mask of zeros with the same height and width as the image. \n",
    "##This mask will store the labels used by the GrabCut algorithm:\n",
    "\n",
    "# 0: background\n",
    "\n",
    "# 1: foreground\n",
    "\n",
    "# 2: probable background\n",
    "\n",
    "# 3: probable foreground\n",
    "\n",
    "bgmask = np.zeros((1,65),np.float64)*255\n",
    "fgmask = np.zeros((1,65),np.float64)*255\n",
    "\n",
    "r = [x1,y1,x2,y2]\n",
    "cv2.grapCut(img, mask1,r,bgmask,fgmask,10,cv2.GC_INIT_WITH_RECT)  ## mask1 is updated \n",
    "\n",
    "mask2 = np.where((masks1 == 2) | (masks1 == 0),0,1).astype(\"uint8\")\n",
    "img = img*mask2[:,:,np.newaxis]\n",
    "\n",
    "cv2.imshow(\"window\", img)\n",
    "cv2.waitKey(0)\n",
    "cv2.destroyAllWindows()\n",
    "cv2.waitKey(1)\n"
   ]
  }
 ],
 "metadata": {
  "kernelspec": {
   "display_name": "Python [conda env:base] *",
   "language": "python",
   "name": "conda-base-py"
  },
  "language_info": {
   "codemirror_mode": {
    "name": "ipython",
    "version": 3
   },
   "file_extension": ".py",
   "mimetype": "text/x-python",
   "name": "python",
   "nbconvert_exporter": "python",
   "pygments_lexer": "ipython3",
   "version": "3.12.7"
  }
 },
 "nbformat": 4,
 "nbformat_minor": 5
}
