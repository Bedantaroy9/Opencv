{
 "cells": [
  {
   "cell_type": "code",
   "execution_count": 9,
   "id": "c17ac178-310e-40cf-9a33-a32749667044",
   "metadata": {},
   "outputs": [],
   "source": [
    "import cv2\n",
    "import mediapipe as mp"
   ]
  },
  {
   "cell_type": "markdown",
   "id": "8cacc2d2-49c8-424a-a920-f8dd5a62c397",
   "metadata": {},
   "source": [
    "## dectect face using mediapipe"
   ]
  },
  {
   "cell_type": "code",
   "execution_count": 11,
   "id": "1c6db98d-a86a-4c4e-9c02-3e3e428a8c04",
   "metadata": {},
   "outputs": [],
   "source": [
    "mp_face_dect = mp.solutions.face_detection\n",
    "mp_draw = mp.solutions. drawing_utils"
   ]
  },
  {
   "cell_type": "code",
   "execution_count": 17,
   "id": "df48edaa-3395-45e0-94af-fe0f0a739f79",
   "metadata": {},
   "outputs": [
    {
     "name": "stderr",
     "output_type": "stream",
     "text": [
      "I0000 00:00:1748092833.504919  600962 gl_context.cc:369] GL version: 2.1 (2.1 Metal - 89.4), renderer: Apple M1\n",
      "W0000 00:00:1748092833.511543  617624 inference_feedback_manager.cc:114] Feedback manager requires a model with a single signature inference. Disabling support for feedback tensors.\n"
     ]
    },
    {
     "data": {
      "text/plain": [
       "-1"
      ]
     },
     "execution_count": 17,
     "metadata": {},
     "output_type": "execute_result"
    }
   ],
   "source": [
    "face_dect = mp_face_dect.FaceDetection(min_detection_confidence = 0.5, model_selection=0)\n",
    "\n",
    "cap = cv2.VideoCapture(0)\n",
    "\n",
    "while True:\n",
    "    r,f = cap.read()\n",
    "    frame = cv2.flip(f,1)\n",
    "    frame = cv2.cvtColor(frame, cv2.COLOR_BGR2RGB)    ### it works on RGB formate\n",
    "    result = face_dect.process(frame)                ### it usually gives us the coordinates\n",
    "    frame = cv2.cvtColor(frame, cv2.COLOR_RGB2BGR)\n",
    "    \n",
    "    if r==True:\n",
    "        if result.detections:\n",
    "            for cr in result.detections:\n",
    "                 mp_draw.draw_detection(frame, cr)\n",
    "            \n",
    "        cv2.imshow(\"ws\",frame)\n",
    "        if cv2.waitKey(25) & 0xff == ord(\"p\"):\n",
    "            break\n",
    "    else:\n",
    "        break\n",
    "    \n",
    "\n",
    "cap.release()\n",
    "cv2.destroyAllWindows()\n",
    "cv2.waitKey(1)"
   ]
  },
  {
   "cell_type": "markdown",
   "id": "13cce88d-b3f2-4eec-8caf-fe18904d9c1c",
   "metadata": {},
   "source": [
    "## detecting hand "
   ]
  },
  {
   "cell_type": "code",
   "execution_count": 31,
   "id": "92e19767-8eb3-44fb-adc0-3aff40475a57",
   "metadata": {},
   "outputs": [
    {
     "name": "stderr",
     "output_type": "stream",
     "text": [
      "I0000 00:00:1748096384.737859  600962 gl_context.cc:369] GL version: 2.1 (2.1 Metal - 89.4), renderer: Apple M1\n",
      "W0000 00:00:1748096384.754723  642099 inference_feedback_manager.cc:114] Feedback manager requires a model with a single signature inference. Disabling support for feedback tensors.\n",
      "W0000 00:00:1748096384.762258  642099 inference_feedback_manager.cc:114] Feedback manager requires a model with a single signature inference. Disabling support for feedback tensors.\n"
     ]
    },
    {
     "data": {
      "text/plain": [
       "-1"
      ]
     },
     "execution_count": 31,
     "metadata": {},
     "output_type": "execute_result"
    }
   ],
   "source": [
    "mp_drawing = mp.solutions.drawing_utils   ## Utility functions to draw landmarks on images.\n",
    "mp_drawing_styles = mp.solutions.drawing_styles  ## Predefined styles for drawing (colors, thickness, etc.).\n",
    "mp_hands = mp.solutions.hands              ## Access to the Hands solution, which detects and tracks hand landmarks.\n",
    "\n",
    "cap = cv2.VideoCapture(0)\n",
    "p = mp_hands.Hands(model_complexity=0,min_detection_confidence=0.5,min_tracking_confidence=0.5)  ##nitialize the hand tracking model\n",
    "\n",
    "while True:\n",
    "    r,f = cap.read()\n",
    "    frame = cv2.flip(f,1)\n",
    "    img = cv2.cvtColor(frame, cv2.COLOR_BGR2RGB)    ### it works on RGB formate\n",
    "    result = p.process(img)                ### it usually gives us the coordinates\n",
    "    frame = cv2.cvtColor(frame, cv2.COLOR_RGB2BGR)\n",
    "    \n",
    "    if r==True:\n",
    "        if result.multi_hand_landmarks:\n",
    "            for land_mark in result.multi_hand_landmarks:\n",
    "                 mp_drawing.draw_landmarks(frame, land_mark, mp_hands.HAND_CONNECTIONS)\n",
    "            \n",
    "        cv2.imshow(\"ws\",frame)\n",
    "        if cv2.waitKey(25) & 0xff == ord(\"p\"):\n",
    "            break\n",
    "    else:\n",
    "        break\n",
    "    \n",
    "\n",
    "cap.release()\n",
    "cv2.destroyAllWindows()\n",
    "cv2.waitKey(1)"
   ]
  },
  {
   "cell_type": "code",
   "execution_count": null,
   "id": "d2da1b91-dd8c-4326-bd16-d6917d2891cf",
   "metadata": {},
   "outputs": [],
   "source": []
  }
 ],
 "metadata": {
  "kernelspec": {
   "display_name": "Python [conda env:base] *",
   "language": "python",
   "name": "conda-base-py"
  },
  "language_info": {
   "codemirror_mode": {
    "name": "ipython",
    "version": 3
   },
   "file_extension": ".py",
   "mimetype": "text/x-python",
   "name": "python",
   "nbconvert_exporter": "python",
   "pygments_lexer": "ipython3",
   "version": "3.12.7"
  }
 },
 "nbformat": 4,
 "nbformat_minor": 5
}
